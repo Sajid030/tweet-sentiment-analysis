{
 "cells": [
  {
   "cell_type": "markdown",
   "metadata": {},
   "source": [
    "# Importing necessary libraries"
   ]
  },
  {
   "cell_type": "code",
   "execution_count": 19,
   "metadata": {
    "_cell_guid": "b1076dfc-b9ad-4769-8c92-a6c4dae69d19",
    "_uuid": "8f2839f25d086af736a60e9eeb907d3b93b6e0e5",
    "execution": {
     "iopub.execute_input": "2023-04-04T17:20:17.222011Z",
     "iopub.status.busy": "2023-04-04T17:20:17.221559Z",
     "iopub.status.idle": "2023-04-04T17:20:17.239822Z",
     "shell.execute_reply": "2023-04-04T17:20:17.238379Z",
     "shell.execute_reply.started": "2023-04-04T17:20:17.221967Z"
    }
   },
   "outputs": [
    {
     "name": "stdout",
     "output_type": "stream",
     "text": [
      "[nltk_data] Downloading package stopwords to /usr/share/nltk_data...\n",
      "[nltk_data]   Package stopwords is already up-to-date!\n"
     ]
    }
   ],
   "source": [
    "# Basic libraries\n",
    "import numpy as np\n",
    "import pandas as pd\n",
    "import matplotlib.pyplot as plt\n",
    "import seaborn as sns\n",
    "%matplotlib inline\n",
    "import pickle\n",
    "import warnings\n",
    "warnings.filterwarnings(action='ignore')\n",
    "\n",
    "# nltk\n",
    "import nltk\n",
    "nltk.download('stopwords')\n",
    "\n",
    "## Preprocessing libraries\n",
    "import re\n",
    "from nltk.corpus import stopwords\n",
    "from nltk.stem.porter import PorterStemmer\n",
    "\n",
    "# For Model training\n",
    "from sklearn.feature_extraction.text import TfidfVectorizer\n",
    "from sklearn.model_selection import train_test_split\n",
    "from sklearn.naive_bayes import MultinomialNB\n",
    "from sklearn.linear_model import LogisticRegression\n",
    "\n",
    "# Metrics for accuracy\n",
    "from sklearn.metrics import accuracy_score,confusion_matrix,classification_report"
   ]
  },
  {
   "cell_type": "markdown",
   "metadata": {},
   "source": [
    "# Reading our Dataset\n",
    "## Dataset details\n",
    "- target: the polarity of the tweet (0 = negative, 2 = neutral, 4 = positive)\n",
    "- ids: The id of the tweet ( 2087)\n",
    "- date: the date of the tweet (Sat May 16 23:58:44 UTC 2009)\n",
    "- flag: The query (lyx). If there is no query, then this value is NO_QUERY.\n",
    "- user: the user that tweeted (robotickilldozr)\n",
    "- text: the text of the tweet (Lyx is cool)"
   ]
  },
  {
   "cell_type": "code",
   "execution_count": 4,
   "metadata": {
    "execution": {
     "iopub.execute_input": "2023-04-04T16:00:38.828599Z",
     "iopub.status.busy": "2023-04-04T16:00:38.828077Z",
     "iopub.status.idle": "2023-04-04T16:00:47.452951Z",
     "shell.execute_reply": "2023-04-04T16:00:47.451726Z",
     "shell.execute_reply.started": "2023-04-04T16:00:38.828547Z"
    }
   },
   "outputs": [
    {
     "name": "stdout",
     "output_type": "stream",
     "text": [
      "(1600000, 6)\n"
     ]
    },
    {
     "data": {
      "text/html": [
       "<div>\n",
       "<style scoped>\n",
       "    .dataframe tbody tr th:only-of-type {\n",
       "        vertical-align: middle;\n",
       "    }\n",
       "\n",
       "    .dataframe tbody tr th {\n",
       "        vertical-align: top;\n",
       "    }\n",
       "\n",
       "    .dataframe thead th {\n",
       "        text-align: right;\n",
       "    }\n",
       "</style>\n",
       "<table border=\"1\" class=\"dataframe\">\n",
       "  <thead>\n",
       "    <tr style=\"text-align: right;\">\n",
       "      <th></th>\n",
       "      <th>target</th>\n",
       "      <th>ids</th>\n",
       "      <th>date</th>\n",
       "      <th>flag</th>\n",
       "      <th>user</th>\n",
       "      <th>text</th>\n",
       "    </tr>\n",
       "  </thead>\n",
       "  <tbody>\n",
       "    <tr>\n",
       "      <th>0</th>\n",
       "      <td>0</td>\n",
       "      <td>1467810369</td>\n",
       "      <td>Mon Apr 06 22:19:45 PDT 2009</td>\n",
       "      <td>NO_QUERY</td>\n",
       "      <td>_TheSpecialOne_</td>\n",
       "      <td>@switchfoot http://twitpic.com/2y1zl - Awww, t...</td>\n",
       "    </tr>\n",
       "    <tr>\n",
       "      <th>1</th>\n",
       "      <td>0</td>\n",
       "      <td>1467810672</td>\n",
       "      <td>Mon Apr 06 22:19:49 PDT 2009</td>\n",
       "      <td>NO_QUERY</td>\n",
       "      <td>scotthamilton</td>\n",
       "      <td>is upset that he can't update his Facebook by ...</td>\n",
       "    </tr>\n",
       "    <tr>\n",
       "      <th>2</th>\n",
       "      <td>0</td>\n",
       "      <td>1467810917</td>\n",
       "      <td>Mon Apr 06 22:19:53 PDT 2009</td>\n",
       "      <td>NO_QUERY</td>\n",
       "      <td>mattycus</td>\n",
       "      <td>@Kenichan I dived many times for the ball. Man...</td>\n",
       "    </tr>\n",
       "    <tr>\n",
       "      <th>3</th>\n",
       "      <td>0</td>\n",
       "      <td>1467811184</td>\n",
       "      <td>Mon Apr 06 22:19:57 PDT 2009</td>\n",
       "      <td>NO_QUERY</td>\n",
       "      <td>ElleCTF</td>\n",
       "      <td>my whole body feels itchy and like its on fire</td>\n",
       "    </tr>\n",
       "    <tr>\n",
       "      <th>4</th>\n",
       "      <td>0</td>\n",
       "      <td>1467811193</td>\n",
       "      <td>Mon Apr 06 22:19:57 PDT 2009</td>\n",
       "      <td>NO_QUERY</td>\n",
       "      <td>Karoli</td>\n",
       "      <td>@nationwideclass no, it's not behaving at all....</td>\n",
       "    </tr>\n",
       "  </tbody>\n",
       "</table>\n",
       "</div>"
      ],
      "text/plain": [
       "   target         ids                          date      flag  \\\n",
       "0       0  1467810369  Mon Apr 06 22:19:45 PDT 2009  NO_QUERY   \n",
       "1       0  1467810672  Mon Apr 06 22:19:49 PDT 2009  NO_QUERY   \n",
       "2       0  1467810917  Mon Apr 06 22:19:53 PDT 2009  NO_QUERY   \n",
       "3       0  1467811184  Mon Apr 06 22:19:57 PDT 2009  NO_QUERY   \n",
       "4       0  1467811193  Mon Apr 06 22:19:57 PDT 2009  NO_QUERY   \n",
       "\n",
       "              user                                               text  \n",
       "0  _TheSpecialOne_  @switchfoot http://twitpic.com/2y1zl - Awww, t...  \n",
       "1    scotthamilton  is upset that he can't update his Facebook by ...  \n",
       "2         mattycus  @Kenichan I dived many times for the ball. Man...  \n",
       "3          ElleCTF    my whole body feels itchy and like its on fire   \n",
       "4           Karoli  @nationwideclass no, it's not behaving at all....  "
      ]
     },
     "execution_count": 4,
     "metadata": {},
     "output_type": "execute_result"
    }
   ],
   "source": [
    "columns=[\"target\", \"ids\", \"date\", \"flag\", \"user\", \"text\"]\n",
    "df_read=pd.read_csv('/kaggle/input/sentiment140/training.1600000.processed.noemoticon.csv',encoding='latin1',names=columns)\n",
    "print(df_read.shape)\n",
    "df_read.head()"
   ]
  },
  {
   "cell_type": "markdown",
   "metadata": {},
   "source": [
    "### Making a DataFrame out of the above Dataset with the only columns that are needed"
   ]
  },
  {
   "cell_type": "code",
   "execution_count": 5,
   "metadata": {
    "execution": {
     "iopub.execute_input": "2023-04-04T16:00:53.844290Z",
     "iopub.status.busy": "2023-04-04T16:00:53.843875Z",
     "iopub.status.idle": "2023-04-04T16:00:53.892652Z",
     "shell.execute_reply": "2023-04-04T16:00:53.891313Z",
     "shell.execute_reply.started": "2023-04-04T16:00:53.844254Z"
    }
   },
   "outputs": [
    {
     "data": {
      "text/html": [
       "<div>\n",
       "<style scoped>\n",
       "    .dataframe tbody tr th:only-of-type {\n",
       "        vertical-align: middle;\n",
       "    }\n",
       "\n",
       "    .dataframe tbody tr th {\n",
       "        vertical-align: top;\n",
       "    }\n",
       "\n",
       "    .dataframe thead th {\n",
       "        text-align: right;\n",
       "    }\n",
       "</style>\n",
       "<table border=\"1\" class=\"dataframe\">\n",
       "  <thead>\n",
       "    <tr style=\"text-align: right;\">\n",
       "      <th></th>\n",
       "      <th>text</th>\n",
       "      <th>target</th>\n",
       "    </tr>\n",
       "  </thead>\n",
       "  <tbody>\n",
       "    <tr>\n",
       "      <th>0</th>\n",
       "      <td>@switchfoot http://twitpic.com/2y1zl - Awww, t...</td>\n",
       "      <td>0</td>\n",
       "    </tr>\n",
       "    <tr>\n",
       "      <th>1</th>\n",
       "      <td>is upset that he can't update his Facebook by ...</td>\n",
       "      <td>0</td>\n",
       "    </tr>\n",
       "    <tr>\n",
       "      <th>2</th>\n",
       "      <td>@Kenichan I dived many times for the ball. Man...</td>\n",
       "      <td>0</td>\n",
       "    </tr>\n",
       "    <tr>\n",
       "      <th>3</th>\n",
       "      <td>my whole body feels itchy and like its on fire</td>\n",
       "      <td>0</td>\n",
       "    </tr>\n",
       "    <tr>\n",
       "      <th>4</th>\n",
       "      <td>@nationwideclass no, it's not behaving at all....</td>\n",
       "      <td>0</td>\n",
       "    </tr>\n",
       "  </tbody>\n",
       "</table>\n",
       "</div>"
      ],
      "text/plain": [
       "                                                text  target\n",
       "0  @switchfoot http://twitpic.com/2y1zl - Awww, t...       0\n",
       "1  is upset that he can't update his Facebook by ...       0\n",
       "2  @Kenichan I dived many times for the ball. Man...       0\n",
       "3    my whole body feels itchy and like its on fire        0\n",
       "4  @nationwideclass no, it's not behaving at all....       0"
      ]
     },
     "execution_count": 5,
     "metadata": {},
     "output_type": "execute_result"
    }
   ],
   "source": [
    "data={'text':df_read['text'].values,'target':df_read['target'].values}\n",
    "df=pd.DataFrame(data)\n",
    "df.head()"
   ]
  },
  {
   "cell_type": "code",
   "execution_count": 6,
   "metadata": {
    "execution": {
     "iopub.execute_input": "2023-04-04T16:00:57.063256Z",
     "iopub.status.busy": "2023-04-04T16:00:57.062801Z",
     "iopub.status.idle": "2023-04-04T16:00:57.401762Z",
     "shell.execute_reply": "2023-04-04T16:00:57.400372Z",
     "shell.execute_reply.started": "2023-04-04T16:00:57.063221Z"
    }
   },
   "outputs": [
    {
     "data": {
      "image/png": "[encoded data removed]",
      "text/plain": [
       "<Figure size 700x300 with 1 Axes>"
      ]
     },
     "metadata": {},
     "output_type": "display_data"
    }
   ],
   "source": [
    "# Seeing the distribution of positive and negative tweet reviews in target column\n",
    "plt.figure(figsize=(7,3))\n",
    "sns.countplot(data=df,x='target',palette=['green','red'])\n",
    "plt.show()"
   ]
  },
  {
   "cell_type": "code",
   "execution_count": 7,
   "metadata": {
    "execution": {
     "iopub.execute_input": "2023-04-04T16:01:00.556426Z",
     "iopub.status.busy": "2023-04-04T16:01:00.555977Z",
     "iopub.status.idle": "2023-04-04T17:06:43.265737Z",
     "shell.execute_reply": "2023-04-04T17:06:43.264265Z",
     "shell.execute_reply.started": "2023-04-04T16:01:00.556378Z"
    }
   },
   "outputs": [],
   "source": [
    "# Data clearing and preprocessing\n",
    "corpus = []\n",
    "ps=PorterStemmer()\n",
    "for i in range(len(df)):\n",
    "    review = re.sub('[^a-zA-Z]', ' ', df['text'][i])         # Removing special characters from text(message)\n",
    "    review = review.lower()                                  # Converting entire text into lower case\n",
    "    review = review.split()                                  # Splitting our text into words\n",
    "    review = [ps.stem(word) for word in review if not word in set(stopwords.words('english'))]             # Stemming and removing stopwords\n",
    "    review = ' '.join(review)                                # Joining all the words into a comple text\n",
    "    corpus.append(review)                                    # Appending each text into the list corpus"
   ]
  },
  {
   "cell_type": "code",
   "execution_count": 8,
   "metadata": {
    "execution": {
     "iopub.execute_input": "2023-04-04T17:08:27.959821Z",
     "iopub.status.busy": "2023-04-04T17:08:27.958534Z",
     "iopub.status.idle": "2023-04-04T17:08:47.456708Z",
     "shell.execute_reply": "2023-04-04T17:08:47.455461Z",
     "shell.execute_reply.started": "2023-04-04T17:08:27.959771Z"
    }
   },
   "outputs": [],
   "source": [
    "# Creating the Bag of Words model\n",
    "cv = TfidfVectorizer()   # We can also select max features we want like this:- max_features = 1500\n",
    "# We will use X as independent feature section\n",
    "X = cv.fit_transform(corpus)\n",
    "# We will use y as dependent feature section\n",
    "y=df['target']"
   ]
  },
  {
   "cell_type": "code",
   "execution_count": 9,
   "metadata": {
    "execution": {
     "iopub.execute_input": "2023-04-04T17:10:13.046813Z",
     "iopub.status.busy": "2023-04-04T17:10:13.046201Z",
     "iopub.status.idle": "2023-04-04T17:10:13.348786Z",
     "shell.execute_reply": "2023-04-04T17:10:13.347106Z",
     "shell.execute_reply.started": "2023-04-04T17:10:13.046771Z"
    }
   },
   "outputs": [],
   "source": [
    "# Creating a pickle file for the CountVectorizer\n",
    "pickle.dump(cv, open('cv-transform.pkl', 'wb'))"
   ]
  },
  {
   "cell_type": "markdown",
   "metadata": {},
   "source": [
    "## Model Training"
   ]
  },
  {
   "cell_type": "code",
   "execution_count": 10,
   "metadata": {
    "execution": {
     "iopub.execute_input": "2023-04-04T17:10:24.997623Z",
     "iopub.status.busy": "2023-04-04T17:10:24.997192Z",
     "iopub.status.idle": "2023-04-04T17:10:25.353815Z",
     "shell.execute_reply": "2023-04-04T17:10:25.352689Z",
     "shell.execute_reply.started": "2023-04-04T17:10:24.997583Z"
    }
   },
   "outputs": [],
   "source": [
    "# Train Test Split\n",
    "X_train, X_test, y_train, y_test = train_test_split(X, y, test_size = 0.30, random_state = 0)"
   ]
  },
  {
   "cell_type": "code",
   "execution_count": 18,
   "metadata": {
    "execution": {
     "iopub.execute_input": "2023-04-04T17:20:01.635580Z",
     "iopub.status.busy": "2023-04-04T17:20:01.634583Z",
     "iopub.status.idle": "2023-04-04T17:20:02.020138Z",
     "shell.execute_reply": "2023-04-04T17:20:02.019068Z",
     "shell.execute_reply.started": "2023-04-04T17:20:01.635536Z"
    }
   },
   "outputs": [],
   "source": [
    "# Training model using Naive bayes classifier\n",
    "review_detect1 = MultinomialNB().fit(X_train, y_train)\n",
    "y_pred1=review_detect1.predict(X_test)"
   ]
  },
  {
   "cell_type": "code",
   "execution_count": 20,
   "metadata": {
    "execution": {
     "iopub.execute_input": "2023-04-04T17:20:33.046297Z",
     "iopub.status.busy": "2023-04-04T17:20:33.045363Z",
     "iopub.status.idle": "2023-04-04T17:21:19.840127Z",
     "shell.execute_reply": "2023-04-04T17:21:19.838797Z",
     "shell.execute_reply.started": "2023-04-04T17:20:33.046240Z"
    }
   },
   "outputs": [],
   "source": [
    "# Training model using LogisticRegression\n",
    "review_detect2 = LogisticRegression().fit(X_train, y_train)\n",
    "y_pred2=review_detect2.predict(X_test)"
   ]
  },
  {
   "cell_type": "code",
   "execution_count": 21,
   "metadata": {
    "execution": {
     "iopub.execute_input": "2023-04-04T17:21:40.300721Z",
     "iopub.status.busy": "2023-04-04T17:21:40.300255Z",
     "iopub.status.idle": "2023-04-04T17:21:41.649360Z",
     "shell.execute_reply": "2023-04-04T17:21:41.647871Z",
     "shell.execute_reply.started": "2023-04-04T17:21:40.300679Z"
    }
   },
   "outputs": [
    {
     "name": "stdout",
     "output_type": "stream",
     "text": [
      "Confusion matrix : \n",
      " [[187448  64661]\n",
      " [ 52429 175462]]\n",
      "Accuracy score :  0.7560625\n",
      "Classification Report :                precision    recall  f1-score   support\n",
      "\n",
      "           0       0.78      0.74      0.76    252109\n",
      "           4       0.73      0.77      0.75    227891\n",
      "\n",
      "    accuracy                           0.76    480000\n",
      "   macro avg       0.76      0.76      0.76    480000\n",
      "weighted avg       0.76      0.76      0.76    480000\n",
      "\n"
     ]
    }
   ],
   "source": [
    "# Checking the accuracy Naive bayes classifier\n",
    "print(\"Confusion matrix : \\n\",confusion_matrix(y_pred1,y_test))\n",
    "print(\"Accuracy score : \",accuracy_score(y_pred1,y_test))\n",
    "print(\"Classification Report : \",classification_report(y_pred1,y_test))"
   ]
  },
  {
   "cell_type": "code",
   "execution_count": 22,
   "metadata": {
    "execution": {
     "iopub.execute_input": "2023-04-04T17:21:50.734142Z",
     "iopub.status.busy": "2023-04-04T17:21:50.733718Z",
     "iopub.status.idle": "2023-04-04T17:21:52.049935Z",
     "shell.execute_reply": "2023-04-04T17:21:52.048480Z",
     "shell.execute_reply.started": "2023-04-04T17:21:50.734107Z"
    }
   },
   "outputs": [
    {
     "name": "stdout",
     "output_type": "stream",
     "text": [
      "Confusion matrix : \n",
      " [[179826  47215]\n",
      " [ 60051 192908]]\n",
      "Accuracy score :  0.7765291666666667\n",
      "Classification Report :                precision    recall  f1-score   support\n",
      "\n",
      "           0       0.75      0.79      0.77    227041\n",
      "           4       0.80      0.76      0.78    252959\n",
      "\n",
      "    accuracy                           0.78    480000\n",
      "   macro avg       0.78      0.78      0.78    480000\n",
      "weighted avg       0.78      0.78      0.78    480000\n",
      "\n"
     ]
    }
   ],
   "source": [
    "# Checking the accuracy for Logistic Regression\n",
    "print(\"Confusion matrix : \\n\",confusion_matrix(y_pred2,y_test))\n",
    "print(\"Accuracy score : \",accuracy_score(y_pred2,y_test))\n",
    "print(\"Classification Report : \",classification_report(y_pred2,y_test))"
   ]
  },
  {
   "cell_type": "markdown",
   "metadata": {},
   "source": [
    "### NOTE :- We can see Logistic Regression has slight better prediction score"
   ]
  },
  {
   "cell_type": "code",
   "execution_count": 23,
   "metadata": {
    "execution": {
     "iopub.execute_input": "2023-04-04T17:24:18.108897Z",
     "iopub.status.busy": "2023-04-04T17:24:18.108488Z",
     "iopub.status.idle": "2023-04-04T17:24:18.120042Z",
     "shell.execute_reply": "2023-04-04T17:24:18.118514Z",
     "shell.execute_reply.started": "2023-04-04T17:24:18.108865Z"
    }
   },
   "outputs": [],
   "source": [
    "# Creating a pickle file for the Multinomial Naive Bayes model\n",
    "pickle.dump(review_detect2, open('tweetmodel.pkl', 'wb'))"
   ]
  },
  {
   "cell_type": "code",
   "execution_count": null,
   "metadata": {},
   "outputs": [],
   "source": []
  }
 ],
 "metadata": {
  "kernelspec": {
   "display_name": "Python 3 (ipykernel)",
   "language": "python",
   "name": "python3"
  },
  "language_info": {
   "codemirror_mode": {
    "name": "ipython",
    "version": 3
   },
   "file_extension": ".py",
   "mimetype": "text/x-python",
   "name": "python",
   "nbconvert_exporter": "python",
   "pygments_lexer": "ipython3",
   "version": "3.10.10"
  }
 },
 "nbformat": 4,
 "nbformat_minor": 4
}
